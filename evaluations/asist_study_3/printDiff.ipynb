{
 "cells": [
  {
   "cell_type": "code",
   "execution_count": 1,
   "metadata": {},
   "outputs": [],
   "source": [
    "import pandas as pd\n",
    "import glob\n",
    "import os\n",
    "import re\n",
    "import sys\n",
    "import ast\n",
    "from collections import Counter"
   ]
  },
  {
   "cell_type": "code",
   "execution_count": 98,
   "metadata": {},
   "outputs": [],
   "source": [
    "#read files and save the labels to lists\n",
    "def readFiles(dir):\n",
    "    dataAll_df = pd.read_csv(dir,index_col=None, header=0)\n",
    "    utt = dataAll_df['utt'].to_list()\n",
    "    utt = [i.strip() for i in utt]\n",
    "    tokens = dataAll_df['tokenized'].to_list()\n",
    "    clean_tokens = [ast.literal_eval(i) for i in tokens]\n",
    "    return list(zip(utt, clean_tokens)), utt\n"
   ]
  },
  {
   "cell_type": "code",
   "execution_count": 99,
   "metadata": {},
   "outputs": [],
   "source": [
    "Odin, Odin_utt = readFiles(\"metadata2tokenzied.csv\")\n",
    "Golden, Golden_utt = readFiles(\"cleanAnnotation.csv\")"
   ]
  },
  {
   "cell_type": "code",
   "execution_count": 100,
   "metadata": {},
   "outputs": [],
   "source": [
    "#select the Vers-3 data from Odin(Vers-6)\n",
    "OdinDict = {}\n",
    "for i in Odin:\n",
    "    OdinDict[i[0]] = i[1]\n",
    "selected_Odin = []\n",
    "for i in range(len(Golden_utt)):\n",
    "    if Golden_utt[i] in OdinDict:\n",
    "        selected_Odin.append((Golden_utt[i],OdinDict[Golden_utt[i]]))\n",
    "Odin = selected_Odin"
   ]
  },
  {
   "cell_type": "code",
   "execution_count": 101,
   "metadata": {},
   "outputs": [],
   "source": [
    "#get the label tokens\n",
    "OdinTokens = [i[1] for i in Odin]\n",
    "GoldenTokens = [i[1] for i in Golden]"
   ]
  },
  {
   "cell_type": "code",
   "execution_count": 91,
   "metadata": {},
   "outputs": [],
   "source": [
    "labels = {'0':0,\n",
    "\"CriticalVictim\":1,\n",
    "'Victim':2,\n",
    "'Room':3,\n",
    "'Engineer':4,\n",
    "'Transporter':5,\n",
    "'Medic':6,\n",
    "'Rubble':7,\n",
    "'MarkerBlock':8,\n",
    "'Meeting':9,\n",
    "'Move':10,\n",
    "'Precedence':11,\n",
    "'RescueInteractions':12,\n",
    "'KnowledgeSharing':13,\n",
    "'ReportLocation':14,\n",
    "'Search':15,\n",
    "'HelpRequest':16,\n",
    "'Question':17,\n",
    "'YesNoQuestion':18,\n",
    "'Instruction':19,\n",
    "'Plan':20\n",
    "}\n",
    "reverseLabels = {}\n",
    "for key,value in labels.items():\n",
    "    reverseLabels[value] = key"
   ]
  },
  {
   "cell_type": "code",
   "execution_count": 102,
   "metadata": {},
   "outputs": [
    {
     "data": {
      "text/plain": [
       "1945"
      ]
     },
     "execution_count": 102,
     "metadata": {},
     "output_type": "execute_result"
    }
   ],
   "source": [
    "# Find differences\n",
    "diffAll = []\n",
    "uttD, OTD, GTD = [], [], []\n",
    "for i in range(len(OdinTokens)):\n",
    "    if OdinTokens[i] != GoldenTokens[i]:\n",
    "        uttD.append(Golden_utt[i])\n",
    "        OTD.append(OdinTokens[i])\n",
    "        GTD.append(GoldenTokens[i])\n",
    "        diffAll.append([Golden_utt[i], [reverseLabels[j] for j in sorted(OdinTokens[i])], [reverseLabels[j] for j in sorted(GoldenTokens[i])]])\n",
    "pd.DataFrame(diffAll,columns=[\"utt\", \"odin_extractions\", \"annotations\"]).to_csv(\"diffAll.csv\", index=False)\n",
    "len(diffAll)"
   ]
  },
  {
   "cell_type": "code",
   "execution_count": 103,
   "metadata": {},
   "outputs": [],
   "source": [
    "# diff for each label\n",
    "# add utt to single list tokens\n",
    "OT = []\n",
    "GT = []\n",
    "for i in range(len(uttD)):\n",
    "    sentence = uttD[i]\n",
    "    len1,len2 = len(OTD[i]),len(GTD[i])\n",
    "    #padding 0 to shorter lists\n",
    "    if len1 > len2:\n",
    "        r2 = GTD[i] + (len1-len2) * [0]\n",
    "        r1 = OTD[i]\n",
    "    elif len2 > len1:\n",
    "        r1 = OTD[i] + (len2-len1) * [0]\n",
    "        r2 = GTD[i]\n",
    "    else:\n",
    "        r1,r2 = OTD[i], GTD[i]\n",
    "    #deal with overlap\n",
    "    overlap = Counter(r1) & Counter(r2)\n",
    "    for j in overlap:\n",
    "        OT += [sentence, j] * overlap[j]\n",
    "        GT += [sentence, j] * overlap[j]\n",
    "        for n in range(overlap[j]):\n",
    "            r1.remove(j)\n",
    "            r2.remove(j)\n",
    "    for k in r1:\n",
    "        OT +=[sentence, k]\n",
    "    for l in r2:\n",
    "        GT +=[sentence, l]"
   ]
  },
  {
   "cell_type": "code",
   "execution_count": 104,
   "metadata": {},
   "outputs": [],
   "source": [
    "# convert single list to nested list\n",
    "OT2, GT2 = [], []\n",
    "for i in range(0,len(OT), 2):\n",
    "    OT2.append([OT[i], OT[i+1]])\n",
    "    GT2.append([GT[i], GT[i+1]])"
   ]
  },
  {
   "cell_type": "code",
   "execution_count": 105,
   "metadata": {},
   "outputs": [],
   "source": [
    "# get diff\n",
    "def getDiff(label_token):\n",
    "    res = []\n",
    "    for i in range(len(OT2)):\n",
    "        ot, gt = OT2[i][1], GT2[i][1]\n",
    "        if label_token in [ot, gt] and ot != gt:\n",
    "            res.append([OT2[i][0], reverseLabels[ot], reverseLabels[gt]])\n",
    "    filename = reverseLabels[label_token] + \"_Diff.csv\"\n",
    "    print(\"number of diff for\", reverseLabels[label_token], \"label:\", len(res))\n",
    "    pd.DataFrame(res,columns=[\"utt\", \"odin_extractions\", \"annotations\"]).to_csv(filename, index=False)"
   ]
  },
  {
   "cell_type": "code",
   "execution_count": 106,
   "metadata": {},
   "outputs": [
    {
     "name": "stdout",
     "output_type": "stream",
     "text": [
      "number of diff for CriticalVictim label: 191\n",
      "number of diff for Victim label: 298\n",
      "number of diff for Room label: 483\n",
      "number of diff for Engineer label: 41\n",
      "number of diff for Transporter label: 54\n",
      "number of diff for Medic label: 21\n",
      "number of diff for Rubble label: 31\n",
      "number of diff for MarkerBlock label: 55\n",
      "number of diff for Meeting label: 51\n",
      "number of diff for Move label: 271\n",
      "number of diff for Precedence label: 193\n",
      "number of diff for RescueInteractions label: 73\n",
      "number of diff for KnowledgeSharing label: 255\n",
      "number of diff for ReportLocation label: 110\n",
      "number of diff for Search label: 56\n",
      "number of diff for HelpRequest label: 123\n",
      "number of diff for Question label: 111\n",
      "number of diff for YesNoQuestion label: 167\n",
      "number of diff for Instruction label: 345\n",
      "number of diff for Plan label: 486\n"
     ]
    }
   ],
   "source": [
    "for i in range(1,21):\n",
    "    getDiff(i)"
   ]
  },
  {
   "cell_type": "code",
   "execution_count": null,
   "metadata": {},
   "outputs": [],
   "source": []
  }
 ],
 "metadata": {
  "kernelspec": {
   "display_name": "Python 3.9.12",
   "language": "python",
   "name": "python3"
  },
  "language_info": {
   "codemirror_mode": {
    "name": "ipython",
    "version": 3
   },
   "file_extension": ".py",
   "mimetype": "text/x-python",
   "name": "python",
   "nbconvert_exporter": "python",
   "pygments_lexer": "ipython3",
   "version": "3.9.12"
  },
  "orig_nbformat": 4,
  "vscode": {
   "interpreter": {
    "hash": "db2067bc540421519cd0d40e7c7e323f3e2c34973a7d705d417f0444b986562c"
   }
  }
 },
 "nbformat": 4,
 "nbformat_minor": 2
}
