{
 "cells": [
  {
   "cell_type": "code",
   "execution_count": 13,
   "metadata": {},
   "outputs": [],
   "source": [
    "import pandas as pd\n",
    "import glob\n",
    "import os\n",
    "import re\n",
    "from collections import Counter"
   ]
  },
  {
   "cell_type": "code",
   "execution_count": 2,
   "metadata": {},
   "outputs": [],
   "source": [
    "#rename annotated files\n",
    "oldnames = glob.glob(os.path.join(\"/Users/yuweiwang/RA/ie-evaluation/annotation\", \"*.csv\"))\n",
    "newnames = [re.sub(r\"annotation/.*HSRData\", \"annotation/HSRData\",i) for i in oldnames]\n",
    "for i in range(len(oldnames)):\n",
    "    os.rename(oldnames[i],newnames[i])"
   ]
  },
  {
   "cell_type": "code",
   "execution_count": 3,
   "metadata": {},
   "outputs": [],
   "source": [
    "#read files and save the labels to lists\n",
    "def readFiles(dir):\n",
    "    files = glob.glob(os.path.join(dir, \"*.csv\"))\n",
    "    files.sort()\n",
    "    rater_dfs = (pd.read_csv(f,index_col=None, header=0).fillna(\"------\") for f in files)\n",
    "    #correct column names\n",
    "    rater_dfs = (f.rename(columns={\"label\": \"labels\"}) for f in rater_dfs)\n",
    "    rater_df = pd.concat(rater_dfs, ignore_index=True)\n",
    "    return rater_df\n",
    "\n",
    "annotations = readFiles(\"/Users/yuweiwang/RA/ie-evaluation/annotation/\")[\"labels\"].tolist()\n",
    "utt = readFiles(\"/Users/yuweiwang/RA/ie-evaluation/annotation/\")[\"utt\"].tolist()"
   ]
  },
  {
   "cell_type": "code",
   "execution_count": 4,
   "metadata": {},
   "outputs": [],
   "source": [
    "#na indices\n",
    "#(because there are 2 unlabeled items, it can only looking for utt na and remove by index. Later the \"-----\" in annotation can be replaced as typo)\n",
    "idx = []\n",
    "for i in range(len(utt)):\n",
    "    if utt[i] == \"------\":\n",
    "        idx.append(i)"
   ]
  },
  {
   "cell_type": "code",
   "execution_count": 5,
   "metadata": {},
   "outputs": [],
   "source": [
    "#remove na items \n",
    "for index in sorted(idx, reverse=True):\n",
    "    del utt[index]\n",
    "    del annotations[index]"
   ]
  },
  {
   "cell_type": "code",
   "execution_count": 6,
   "metadata": {},
   "outputs": [],
   "source": [
    "labels = {'0':0,\n",
    "\"CriticalVictim\":1,\n",
    "'Victim':2,\n",
    "'Room':3,\n",
    "'Engineer':4,\n",
    "'Transporter':5,\n",
    "'Medic':6,\n",
    "'Rubble':7,\n",
    "'MarkerBlock':8,\n",
    "'Meeting':9,\n",
    "'Movement':10,\n",
    "'Precedence':11,\n",
    "'Triage':12,\n",
    "'KnowledgeSharing':13,\n",
    "'ReportLocation':14,\n",
    "'Search':15,\n",
    "'HelpRequest':16,\n",
    "'Question':17,\n",
    "'YesNoQuestion':18,\n",
    "'Instruction':19,\n",
    "'Plan':20\n",
    "}"
   ]
  },
  {
   "cell_type": "code",
   "execution_count": 7,
   "metadata": {},
   "outputs": [],
   "source": [
    "#remove typo\n",
    "annotations = [i.replace(\"Vicitm\", \"Victim\") for i in annotations]\n",
    "annotations = [i.replace(\"VIctim\", \"Victim\") for i in annotations]\n",
    "annotations = [i.replace(\"Vicim\", \"Victim\") for i in annotations]\n",
    "annotations = [i.replace(\"Vicitim\", \"Victim\") for i in annotations]\n",
    "annotations = [i.replace(\"}Victim\", \"}/Victim\") for i in annotations]\n",
    "annotations = [i.replace(\"YesNowQuestion\", \"YesNoQuestion\") for i in annotations]\n",
    "annotations = [i.replace(\"YesNoQuestion:\", \"YesNoQuestion\") for i in annotations]\n",
    "annotations = [i.replace(\"YesNoQuesion\", \"YesNoQuestion\") for i in annotations]\n",
    "annotations = [i.replace(\"YesNoQuestoin\", \"YesNoQuestion\") for i in annotations]\n",
    "annotations = [i.replace(\"YesNoQuestio{\", \"YesNoQuestion{\") for i in annotations]\n",
    "annotations = [i.replace(\"MakerBlock\", \"MarkerBlock\") for i in annotations]\n",
    "annotations = [i.replace(\"Pan\", \"Plan\") for i in annotations]\n",
    "annotations = [i.replace(\"Plan:\", \"Plan\") for i in annotations]\n",
    "annotations = [i.replace(\"Plane\", \"Plan\") for i in annotations]\n",
    "annotations = [i.replace(\"KnowledgeSharig\", \"KnowledgeSharing\") for i in annotations]\n",
    "annotations = [i.replace(\"KnowledSharing\", \"KnowledgeSharing\") for i in annotations]\n",
    "annotations = [i.replace(\"KnwoledgeSharing\", \"KnowledgeSharing\") for i in annotations]\n",
    "annotations = [i.replace(\"KnowlegdgeShahring\", \"KnowledgeSharing\") for i in annotations]\n",
    "annotations = [i.replace(\"KnoledgeSharing\", \"KnowledgeSharing\") for i in annotations]\n",
    "annotations = [i.replace(\"KnowledgeShating\", \"KnowledgeSharing\") for i in annotations]\n",
    "annotations = [i.replace(\"KnowedgeSharing\", \"KnowledgeSharing\") for i in annotations]\n",
    "annotations = [i.replace(\"KowledgeSharing\", \"KnowledgeSharing\") for i in annotations]\n",
    "annotations = [i.replace(\"KnowledgeSharing:\", \"KnowledgeSharing\") for i in annotations]\n",
    "annotations = [i.replace(\"ReportLocatio{\", \"ReportLocation{\") for i in annotations]\n",
    "annotations = [i.replace(\"ReporLocation\", \"ReportLocation\") for i in annotations]\n",
    "annotations = [i.replace(\"Transportr\", \"Transporter\") for i in annotations]\n",
    "annotations = [i.replace(\"Transpoter\", \"Transporter\") for i in annotations]\n",
    "annotations = [i.replace(\"Transprte/\", \"Transporter/\") for i in annotations]\n",
    "annotations = [i.replace(\"Transpter\", \"Transporter\") for i in annotations]\n",
    "annotations = [i.replace(\"Tranporter\", \"Transporter\") for i in annotations]\n",
    "annotations = [i.replace(\"Transpoert\", \"Transporter\") for i in annotations]\n",
    "annotations = [i.replace(\"Transprter\", \"Transporter\") for i in annotations]\n",
    "annotations = [i.replace(\"Medc\", \"Medic\") for i in annotations]\n",
    "annotations = [i.replace(\"CriticalVictm\", \"CriticalVictim\") for i in annotations]\n",
    "annotations = [i.replace(\"CritcalVictim\", \"CriticalVictim\") for i in annotations]\n",
    "annotations = [i.replace(\"CriicalVictim\", \"CriticalVictim\") for i in annotations]\n",
    "annotations = [i.replace(\" CriticalVictim\", \"CriticalVictim\") for i in annotations]\n",
    "annotations = [i.replace(\"}CriticalVictim\", \"}/CriticalVictim\") for i in annotations]\n",
    "annotations = [i.replace(\"CriticalVictims\", \"CriticalVictim\") for i in annotations]\n",
    "annotations = [i.replace(\"CriticalvIctim\", \"CriticalVictim\") for i in annotations]\n",
    "annotations = [i.strip(\"/\") for i in annotations]\n",
    "annotations = [i.replace(\"}Engineer\", \"}/Engineer\") for i in annotations]\n",
    "annotations = [i.replace(\"]/Engineer\", \"}/Engineer\") for i in annotations]\n",
    "annotations = [i.replace(\"Enginer\", \"Engineer\") for i in annotations]\n",
    "annotations = [i.replace(\"Movment\", \"Movement\") for i in annotations]\n",
    "annotations = [i.replace(\"Question:\", \"Question\") for i in annotations]\n",
    "annotations = [i.replace(\"}Room\", \"}/Room\") for i in annotations]\n",
    "annotations = [i.replace(\"B2\", \"Room\") for i in annotations]\n",
    "annotations = [re.sub(r\"Roo$\", \"Room\", i) for i in annotations]\n",
    "annotations = [i.replace(\"HelpReques{\", \"HelpRequest{\") for i in annotations]\n",
    "annotations = [i.replace(\"HelpRequest:\", \"HelpRequest\") for i in annotations]\n",
    "annotations = [i.replace(\"instruction\", \"Instruction\") for i in annotations]\n",
    "annotations = [i.replace(\"Insturction\", \"Instruction\") for i in annotations]\n",
    "annotations = [i.replace(\"Instruction:\", \"Instruction\") for i in annotations]\n",
    "annotations = [i.replace(\"Instrucion\", \"Instruction\") for i in annotations]\n",
    "annotations = [i.replace(\"Instuction\", \"Instruction\") for i in annotations]\n",
    "annotations = [i.replace(\"Instruiction\", \"Instruction\") for i in annotations]\n",
    "annotations = [i.replace(\"Instructio{\", \"Instruction{\") for i in annotations]\n",
    "annotations = [i.replace(\"Meeing\", \"Meeting\") for i in annotations]\n",
    "annotations = [i.replace(\"------\", \"0\") for i in annotations]"
   ]
  },
  {
   "cell_type": "code",
   "execution_count": 359,
   "metadata": {},
   "outputs": [],
   "source": [
    "#check if the utterances are euqal\n",
    "def getUtter(dir):\n",
    "    files = glob.glob(os.path.join(dir, \"*.csv\"))\n",
    "    files.sort()\n",
    "    files = files[:32]\n",
    "    dfs = (pd.read_csv(f,index_col=None, header=0).fillna(\"0\") for f in files)\n",
    "    df = pd.concat(dfs, ignore_index=True)\n",
    "    return df[\"utt\"].tolist()\n",
    "\n",
    "original = getUtter(\"/Users/yuweiwang/RA/ie-evaluation/scripts\")"
   ]
  },
  {
   "cell_type": "code",
   "execution_count": 381,
   "metadata": {},
   "outputs": [],
   "source": [
    "count = 0\n",
    "for i in range(3686):\n",
    "    if original[i].strip() != utt[i].strip():\n",
    "        count += 1\n",
    "        print(i)\n",
    "        print(original[i])\n",
    "        print(utt[i])"
   ]
  },
  {
   "cell_type": "code",
   "execution_count": 9,
   "metadata": {},
   "outputs": [],
   "source": [
    "#clean argument and tokenize labels\n",
    "def clean(annotations):\n",
    "    cleanR = []\n",
    "    for i in annotations:\n",
    "        label = re.sub(r'\\{[^)]*\\}',\"\",i).split('/')\n",
    "        cleanR.append([labels[j] for j in label])\n",
    "    return cleanR\n",
    "tokenized = clean(annotations)"
   ]
  },
  {
   "cell_type": "code",
   "execution_count": 11,
   "metadata": {},
   "outputs": [
    {
     "data": {
      "text/plain": [
       "116"
      ]
     },
     "execution_count": 11,
     "metadata": {},
     "output_type": "execute_result"
    }
   ],
   "source": [
    "# number of Question label: 116\n",
    "count = 0\n",
    "for i in tokenized:\n",
    "    for j in i:\n",
    "        if j == 17:\n",
    "            count += 1\n",
    "count"
   ]
  },
  {
   "cell_type": "code",
   "execution_count": 384,
   "metadata": {},
   "outputs": [
    {
     "data": {
      "text/plain": [
       "3686"
      ]
     },
     "execution_count": 384,
     "metadata": {},
     "output_type": "execute_result"
    }
   ],
   "source": [
    "len(tokenized)"
   ]
  },
  {
   "cell_type": "code",
   "execution_count": 385,
   "metadata": {},
   "outputs": [],
   "source": [
    "#save to a csv file\n",
    "pd.DataFrame(list(zip(utt, annotations,tokenized)), columns=[\"utt\", \"labels\",\"tokenized\"]).to_csv(\"cleanAnnotation.csv\",index=False)"
   ]
  },
  {
   "cell_type": "code",
   "execution_count": 264,
   "metadata": {},
   "outputs": [
    {
     "name": "stdout",
     "output_type": "stream",
     "text": [
      "4343\n",
      "Victim/B2\n"
     ]
    }
   ],
   "source": [
    "for i in range(len(annotations)):\n",
    "    for j in re.sub(r'\\{[^)]*\\}',\"\",annotations[i]).split('/'):\n",
    "        if 'B2' == j:\n",
    "            print(i)\n",
    "            print(annotations[i])"
   ]
  },
  {
   "cell_type": "code",
   "execution_count": 200,
   "metadata": {},
   "outputs": [
    {
     "name": "stdout",
     "output_type": "stream",
     "text": [
      "2716\n",
      "CriticalVictim/HelpReques{agent:{we}}/Precedence{first:{we would need three people search quickly},second:{we can transport all three of them I guess}}/HelpRequest{helper:{we}}/Plan{topic:{transport},agent:{we}}\n"
     ]
    }
   ],
   "source": [
    "for i in range(len(annotations)):\n",
    "    if 'HelpReques{' in annotations[i]:\n",
    "        print(i)\n",
    "        print(annotations[i])"
   ]
  },
  {
   "cell_type": "code",
   "execution_count": 275,
   "metadata": {},
   "outputs": [
    {
     "data": {
      "text/plain": [
       "4534"
      ]
     },
     "execution_count": 275,
     "metadata": {},
     "output_type": "execute_result"
    }
   ],
   "source": [
    "len(annotations)"
   ]
  },
  {
   "cell_type": "code",
   "execution_count": null,
   "metadata": {},
   "outputs": [],
   "source": []
  }
 ],
 "metadata": {
  "kernelspec": {
   "display_name": "Python 3.8.8 ('base')",
   "language": "python",
   "name": "python3"
  },
  "language_info": {
   "codemirror_mode": {
    "name": "ipython",
    "version": 3
   },
   "file_extension": ".py",
   "mimetype": "text/x-python",
   "name": "python",
   "nbconvert_exporter": "python",
   "pygments_lexer": "ipython3",
   "version": "3.8.8"
  },
  "orig_nbformat": 4,
  "vscode": {
   "interpreter": {
    "hash": "40d3a090f54c6569ab1632332b64b2c03c39dcf918b08424e98f38b5ae0af88f"
   }
  }
 },
 "nbformat": 4,
 "nbformat_minor": 2
}
