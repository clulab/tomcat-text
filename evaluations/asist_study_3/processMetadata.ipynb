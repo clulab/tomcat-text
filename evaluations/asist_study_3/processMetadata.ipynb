{
 "cells": [
  {
   "cell_type": "code",
   "execution_count": 2,
   "metadata": {},
   "outputs": [],
   "source": [
    "import json\n",
    "import pandas as pd\n",
    "import glob\n",
    "import os\n",
    "import ast"
   ]
  },
  {
   "cell_type": "code",
   "execution_count": 3,
   "metadata": {},
   "outputs": [],
   "source": [
    "##list all files\n",
    "path_name = glob.glob(os.path.join(\"/Users/yuweiwang/RA/ie-evaluation/metadata\", \"*.metadata\"))\n",
    "path_name.sort()"
   ]
  },
  {
   "cell_type": "code",
   "execution_count": 4,
   "metadata": {},
   "outputs": [],
   "source": [
    "#load files\n",
    "files = [open(f,\"r\") for f in path_name]\n",
    "lines = [file.readlines() for file in files]"
   ]
  },
  {
   "cell_type": "code",
   "execution_count": 5,
   "metadata": {},
   "outputs": [],
   "source": [
    "#choose only topic == 'agent/dialog'\n",
    "def getExtractions(line_file):\n",
    "    dialog_data = []\n",
    "    j_file = [json.loads(line) for line in line_file]\n",
    "    for i in range(len(j_file)):\n",
    "        if j_file[i]['topic'] == \"agent/dialog\":\n",
    "            if j_file[i]['data']['text'][0] != '{':\n",
    "                dialog_data.append([j_file[i]['data']['text'].strip(),j_file[i]['data']['extractions']])\n",
    "    return dialog_data"
   ]
  },
  {
   "cell_type": "code",
   "execution_count": 6,
   "metadata": {},
   "outputs": [],
   "source": [
    "#get text and extractions and save to data\n",
    "dataAll = []\n",
    "for file in lines:\n",
    "    dataAll += getExtractions(file)"
   ]
  },
  {
   "cell_type": "code",
   "execution_count": 7,
   "metadata": {},
   "outputs": [
    {
     "data": {
      "text/plain": [
       "6821"
      ]
     },
     "execution_count": 7,
     "metadata": {},
     "output_type": "execute_result"
    }
   ],
   "source": [
    "len(dataAll)"
   ]
  },
  {
   "cell_type": "code",
   "execution_count": 8,
   "metadata": {},
   "outputs": [],
   "source": [
    "#save dataAll into csv for future use\n",
    "pd.DataFrame(dataAll, columns= [\"utt\", \"extractions\"]).to_csv(\"metadata2extraction.csv\", index=False)"
   ]
  },
  {
   "cell_type": "code",
   "execution_count": null,
   "metadata": {},
   "outputs": [],
   "source": [
    "# if the runtime of above is too long, load the saved output.\n",
    "dataAll_df = pd.read_csv(\"metadata2extraction.csv\",index_col=None, header=0)\n",
    "data_utt = dataAll_df['utt'].to_list()\n",
    "data_extractions = dataAll_df['extractions'].to_list()\n",
    "clean_extractions = [ast.literal_eval(i) for i in data_extractions]\n",
    "dataAll = list(zip(data_utt,clean_extractions))"
   ]
  },
  {
   "cell_type": "code",
   "execution_count": 9,
   "metadata": {},
   "outputs": [],
   "source": [
    "#get only the labels of the extractions\n",
    "data_labels = []\n",
    "for i in dataAll:\n",
    "    data_labels.append([i[0].strip(),[extraction['labels'] for extraction in i[1]]])"
   ]
  },
  {
   "cell_type": "code",
   "execution_count": 24,
   "metadata": {},
   "outputs": [],
   "source": [
    "labels = {'0':0,\n",
    "\"CriticalVictim\":1,\n",
    "'Victim':2,\n",
    "'Room':3,\n",
    "'Engineer':4,\n",
    "'Transporter':5,\n",
    "'Medic':6,\n",
    "'Rubble':7,\n",
    "'MarkerBlock':8,\n",
    "'Meeting':9,\n",
    "'Move':10,\n",
    "'Precedence':11,\n",
    "'RescueInteractions':12,\n",
    "'KnowledgeSharing':13,\n",
    "'ReportLocation':14,\n",
    "'Search':15,\n",
    "'HelpRequest':16,\n",
    "'Question':17,\n",
    "'YesNoQuestion':18,\n",
    "'Instruction':19,\n",
    "'Plan':20\n",
    "}"
   ]
  },
  {
   "cell_type": "code",
   "execution_count": 37,
   "metadata": {},
   "outputs": [],
   "source": [
    "#select 20 labels and tokenize them\n",
    "labels20 = []\n",
    "for i in data_labels:\n",
    "    found = []\n",
    "    tokens = []\n",
    "    if i[1]:\n",
    "        overlaps = []\n",
    "        for j in i[1]:\n",
    "            overlap = set(labels) & set(j)\n",
    "            if len(overlap) > 1 and \"CriticalVictim\" in overlap:\n",
    "                overlap = {'CriticalVictim'}\n",
    "            elif len(overlap) > 1 and \"YesNoQuestion\" in overlap:\n",
    "                overlap = {'YesNoQuestion'}\n",
    "            overlaps += overlap\n",
    "            if overlap:\n",
    "                found += overlap\n",
    "                tokens += [labels[l] for l in overlap]\n",
    "        if not overlaps:\n",
    "            found.append('0')\n",
    "            tokens.append(0)\n",
    "    else:\n",
    "        found.append('0')\n",
    "        tokens.append(0)\n",
    "    labels20.append([i[0], found, tokens])"
   ]
  },
  {
   "cell_type": "code",
   "execution_count": 30,
   "metadata": {},
   "outputs": [
    {
     "data": {
      "text/plain": [
       "589"
      ]
     },
     "execution_count": 30,
     "metadata": {},
     "output_type": "execute_result"
    }
   ],
   "source": [
    "count = 0\n",
    "for i in labels20:\n",
    "    if \"Victim\" in i[1]:\n",
    "        count += 1\n",
    "count"
   ]
  },
  {
   "cell_type": "code",
   "execution_count": 40,
   "metadata": {},
   "outputs": [],
   "source": [
    "pd.DataFrame(labels20,columns=[\"utt\", \"labels\", \"tokenized\"]).to_csv(\"metadata2tokenzied.csv\", index=False)"
   ]
  }
 ],
 "metadata": {
  "kernelspec": {
   "display_name": "Python 3.8.8 ('base')",
   "language": "python",
   "name": "python3"
  },
  "language_info": {
   "codemirror_mode": {
    "name": "ipython",
    "version": 3
   },
   "file_extension": ".py",
   "mimetype": "text/x-python",
   "name": "python",
   "nbconvert_exporter": "python",
   "pygments_lexer": "ipython3",
   "version": "3.8.8"
  },
  "orig_nbformat": 4,
  "vscode": {
   "interpreter": {
    "hash": "40d3a090f54c6569ab1632332b64b2c03c39dcf918b08424e98f38b5ae0af88f"
   }
  }
 },
 "nbformat": 4,
 "nbformat_minor": 2
}
